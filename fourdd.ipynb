{
 "cells": [
  {
   "cell_type": "markdown",
   "metadata": {},
   "source": [
    "# fourdd\n",
    "A server for dynamic graph visualizations. This server should produce a webpage with a full screen fourd page. This page should be embeddable as an iframe. \n",
    "\n",
    "It's parameters should be:\n",
    "\n",
    "* Size, given as pizels\n",
    "* Background picture\n",
    "* Default Vertex Picture\n",
    "\n",
    "The graph displayed is manipulated using get and post requests. Every vertex and edge command url is prefixed by a graph url:\n",
    "\n",
    "## Spinning up a Graph Server\n",
    "\n",
    "\n",
    "## Graph API\n",
    "The graph urls command the creation, deletion, and fetching of graph resources.  \n",
    "* GET /graph/all, {graphs: [1, 2, 3]}\n",
    "* POST /graph/create/q?id=STRING\n",
    "* GET /graph/id\n",
    "* POST /graph/id/delete\n",
    "\n",
    "## The Vertex API\n",
    "* GET /graph/id/vertex/all\n",
    "* POST /graph/id/vertex/create/q?size=INT[[&color=HEX]|[&picture=URL]][&label=HTML]\n",
    "* GET /graph/id/vertex/id\n",
    "* POST /graph/id/vertex/id/delete\n",
    "* POST /graph/id/vertex/id/update\n",
    "\n",
    "## The Edge API\n",
    "* GET /graph/id/edge/all\n",
    "* POST graph/id/edge/create/q?source=VERTEX_ID&target=VERTEX_ID\n",
    "* GET /graph/id/edge/id\n",
    "* POST /graph/id/edge/id/delete\n",
    "* POST /graph/id//edge/id/update"
   ]
  },
  {
   "cell_type": "code",
   "execution_count": 2,
   "metadata": {},
   "outputs": [
    {
     "name": "stdout",
     "output_type": "stream",
     "text": [
      "setup done\n"
     ]
    },
    {
     "name": "stderr",
     "output_type": "stream",
     "text": [
      "Error: listen EADDRINUSE :::16203\n",
      "    at Object.exports._errnoException (util.js:1020:11)\n",
      "    at exports._exceptionWithHostPort (util.js:1043:20)\n",
      "    at Server._listen2 (net.js:1271:14)\n",
      "    at listen (net.js:1307:10)\n",
      "    at Server.listen (net.js:1403:5)\n",
      "    at EventEmitter.listen (/home/thwee/Code/fourdd/node_modules/express/lib/application.js:618:24)\n",
      "    at evalmachine.<anonymous>:7:5\n",
      "    at ContextifyScript.Script.runInThisContext (vm.js:25:33)\n",
      "    at Object.runInThisContext (vm.js:97:38)\n",
      "    at run ([eval]:1002:15)"
     ]
    }
   ],
   "source": [
    "var express = require('express');\n",
    "var app = express()\n",
    "var port = 16203;\n",
    "\n",
    "\n",
    "app.get('/', (req, res) => {\n",
    "  res.send('Hello, Worlds');\n",
    "})\n",
    "\n",
    "\n",
    "app.listen(port, () => console.log(`Listening on ${port}`));\n",
    "console.log('setup done')"
   ]
  },
  {
   "cell_type": "code",
   "execution_count": null,
   "metadata": {},
   "outputs": [],
   "source": []
  }
 ],
 "metadata": {
  "kernelspec": {
   "display_name": "Javascript (Node.js)",
   "language": "javascript",
   "name": "javascript"
  },
  "language_info": {
   "file_extension": ".js",
   "mimetype": "application/javascript",
   "name": "javascript",
   "version": "6.16.0"
  }
 },
 "nbformat": 4,
 "nbformat_minor": 2
}
