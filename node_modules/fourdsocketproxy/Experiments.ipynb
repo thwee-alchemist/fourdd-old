{
 "cells": [
  {
   "cell_type": "markdown",
   "metadata": {},
   "source": [
    "![grid](img/grid2.png)"
   ]
  },
  {
   "cell_type": "markdown",
   "metadata": {},
   "source": [
    "# Experiments\n",
    "\n",
    "[Joshua Marshall Moore](moore.joshua@pm.me)\n",
    "\n",
    "The following is a list of all of FourD and its SocketProxy's features. \n",
    "\n",
    "## fourd.js - The Client API\n",
    "fourd.js is what you would use on a webpage. To get started, include the following packages in your html document: \n",
    "\n",
    "* jquery\n",
    "* three.js\n",
    "* OrbitControls\n",
    "* fourd.js\n",
    "* THREEx.WindowResize.js\n",
    "\n",
    "The versions in this repository all work together. It's not the newest of the latest, but it gets the job done. \n",
    "\n",
    "```js\n",
    "var cube = {\n",
    "  size: 10,\n",
    "    \n",
    "  color: 0xffffff,\n",
    "  // or\n",
    "  texture: 'path/to.png'\n",
    "};\n",
    "\n",
    "var label = {\n",
    "  text: 'Hello, World' \n",
    "}\n",
    "\n",
    "var v = fourd.graph.add_vertex({cube: cube, label: label}); // both are optional. \n",
    "fourd.graph.remove_vertex(v); // cleanup, or graph manipulation.\n",
    "\n",
    "var v1 - fourd.graph.add_vertex();\n",
    "var v2 = fourd.graph.add_vertex();\n",
    "var e = fourd.graph.add_edge(v1, v2, {directed: true}); // this will produce a downward pointing edge from v1 to v2. \n",
    "fourd.graph.remove_edge(e); // cleanup\n",
    "```\n",
    "## fourdsocketproxy\n",
    "The fourdsocketproxy provides a server side interface for drawing graphs in a browser. Upon initialization, the proxy looks for an open port beginning with 16100, and opens a browser window. Now the proxy is ready to relay commands to the client. "
   ]
  },
  {
   "cell_type": "markdown",
   "metadata": {},
   "source": [
    "### Square Grid"
   ]
  },
  {
   "cell_type": "code",
   "execution_count": 1,
   "metadata": {},
   "outputs": [
    {
     "name": "stdout",
     "output_type": "stream",
     "text": [
      "server listening at http://localhost:16100\n"
     ]
    }
   ],
   "source": [
    "var SIZE = 20;\n",
    "\n",
    "require('./FourDSocketProxyServer.js')().then(fourd =>{\n",
    "    fourd.clear();\n",
    "    var options = {cube: {size: 10, color: 0x000000}};\n",
    "\n",
    "    var rows = [];\n",
    "    for(var i=0; i<SIZE; i++){\n",
    "        var column = [];\n",
    "        for(var j=0; j<SIZE; j++){\n",
    "            column.push(fourd.add_vertex(options));\n",
    "            if(j>0){\n",
    "                fourd.add_edge(column[j], column[j-1]);\n",
    "            }\n",
    "            if(i>0){\n",
    "                fourd.add_edge(column[j], rows[i-1][j]);\n",
    "            }\n",
    "        }\n",
    "        rows.push(column);\n",
    "    }\n",
    "});\n"
   ]
  },
  {
   "cell_type": "markdown",
   "metadata": {},
   "source": [
    "### Cube"
   ]
  },
  {
   "cell_type": "code",
   "execution_count": 8,
   "metadata": {},
   "outputs": [
    {
     "name": "stdout",
     "output_type": "stream",
     "text": [
      "server listening at http://localhost:37182\n"
     ]
    }
   ],
   "source": [
    "var SIZE = 10;\n",
    "require('./FourDSocketProxyServer.js')().then(fourd =>{\n",
    "    fourd.clear();\n",
    "    var options = {cube: {size: 10, color: 0x000000}};\n",
    "\n",
    "    var depths = [];\n",
    "    for(var k=0; k<SIZE; k++){\n",
    "        var rows = [];\n",
    "        for(var i=0; i<SIZE; i++){\n",
    "            var column = [];\n",
    "            for(var j=0; j<SIZE; j++){\n",
    "                column.push(fourd.add_vertex(options));\n",
    "                if(j>0){\n",
    "                    fourd.add_edge(column[j], column[j-1]);\n",
    "                }\n",
    "                if(i>0){\n",
    "                    fourd.add_edge(column[j], rows[i-1][j]);\n",
    "                }\n",
    "                if(k>0){\n",
    "                    fourd.add_edge(column[j], depths[k-1][i][j]);\n",
    "                }\n",
    "            }\n",
    "            rows.push(column);\n",
    "        }\n",
    "        depths.push(rows);\n",
    "\n",
    "    }\n",
    "});\n"
   ]
  },
  {
   "cell_type": "markdown",
   "metadata": {},
   "source": [
    "### Callback Tree"
   ]
  },
  {
   "cell_type": "code",
   "execution_count": 4,
   "metadata": {},
   "outputs": [
    {
     "name": "stdout",
     "output_type": "stream",
     "text": [
      "server listening at http://localhost:34589\n"
     ]
    }
   ],
   "source": [
    "var options = {cube: {size: 10, color: 0xffffff}};\n",
    "\n",
    "require('./FourDSocketProxyServer.js')().then(fourd => {\n",
    "    fourd.on('click', function(event){\n",
    "        var new_vertex = fourd.add_vertex(options);\n",
    "        var selected_vertex = event.vertex_id;\n",
    "        fourd.add_edge(selected_vertex, new_vertex);\n",
    "    });\n",
    "    \n",
    "    fourd.add_vertex(options);\n",
    "});"
   ]
  },
  {
   "cell_type": "markdown",
   "metadata": {},
   "source": [
    "### New!!! Callback Tree with Directed Edges"
   ]
  },
  {
   "cell_type": "code",
   "execution_count": 4,
   "metadata": {},
   "outputs": [
    {
     "name": "stdout",
     "output_type": "stream",
     "text": [
      "server listening at http://localhost:37508\n"
     ]
    }
   ],
   "source": [
    "var options = {cube: {size: 10, color: 0xffffff}};\n",
    "\n",
    "require('./FourDSocketProxyServer.js')().then(fourd => {\n",
    "    fourd.on('click', function(event){\n",
    "        var new_vertex = fourd.add_vertex(options);\n",
    "        var selected_vertex = event.vertex_id;\n",
    "        fourd.add_edge(selected_vertex, new_vertex, {directed: true});\n",
    "    });\n",
    "    \n",
    "    fourd.add_vertex(options);\n",
    "});"
   ]
  },
  {
   "cell_type": "markdown",
   "metadata": {},
   "source": [
    "### Picture Textures"
   ]
  },
  {
   "cell_type": "code",
   "execution_count": 2,
   "metadata": {},
   "outputs": [
    {
     "name": "stdout",
     "output_type": "stream",
     "text": [
      "server listening at http://localhost:38287\n"
     ]
    }
   ],
   "source": [
    "var options = {cube: {size: 10, texture: '/joshua.marshall.moore.jpg'}};\n",
    "\n",
    "require('./FourDSocketProxyServer.js')().then(fourd => {\n",
    "    fourd.add_vertex(options);\n",
    "    \n",
    "    fourd.on('click', function(event){\n",
    "        var new_vertex = fourd.add_vertex(options);\n",
    "        var selected_vertex = event.vertex_id;\n",
    "        fourd.add_edge(selected_vertex, new_vertex, {directed: true});\n",
    "    });\n",
    "    \n",
    "})"
   ]
  },
  {
   "cell_type": "markdown",
   "metadata": {},
   "source": [
    "### Labels"
   ]
  },
  {
   "cell_type": "code",
   "execution_count": 1,
   "metadata": {},
   "outputs": [
    {
     "name": "stdout",
     "output_type": "stream",
     "text": [
      "server listening at http://localhost:16100\n"
     ]
    }
   ],
   "source": [
    "require('./FourDSocketProxyServer.js')().then(fourd => {\n",
    "    var i = 0;\n",
    "    var options = {\n",
    "        cube: {size: 10, color: 0xffffff},\n",
    "        label: {text: i.toString()}\n",
    "    };\n",
    "    fourd.add_vertex(options);\n",
    "    \n",
    "    fourd.on('click', function(event){\n",
    "        i++;\n",
    "        var options = {\n",
    "            cube: {size: 10, color: 0x000000},\n",
    "            label: {text: i.toString()}\n",
    "        };\n",
    "        var new_vertex = fourd.add_vertex(options);\n",
    "        var selected = event.vertex_id;\n",
    "        fourd.add_edge(selected, new_vertex, {directed: true});\n",
    "    });\n",
    "});"
   ]
  },
  {
   "cell_type": "code",
   "execution_count": null,
   "metadata": {},
   "outputs": [],
   "source": []
  }
 ],
 "metadata": {
  "kernelspec": {
   "display_name": "Javascript (Node.js)",
   "language": "javascript",
   "name": "javascript"
  },
  "language_info": {
   "file_extension": ".js",
   "mimetype": "application/javascript",
   "name": "javascript",
   "version": "6.16.0"
  }
 },
 "nbformat": 4,
 "nbformat_minor": 2
}
